{
 "cells": [
  {
   "cell_type": "markdown",
   "id": "abc7609b",
   "metadata": {},
   "source": [
    "# Sample Notebook with Table of Contents\n",
    "This notebook is created for testing GitHub Pages setup."
   ]
  },
  {
   "cell_type": "markdown",
   "id": "6996ed54",
   "metadata": {},
   "source": [
    "## Table of Contents\n",
    "1. [Introduction](#Introduction)\n",
    "2. [Data Analysis](#Data-Analysis)\n",
    "3. [Conclusion](#Conclusion)"
   ]
  },
  {
   "cell_type": "markdown",
   "id": "29b4ec74",
   "metadata": {},
   "source": [
    "**View this notebook in:**\n",
    "\n",
    "<a href=\"https://colab.research.google.com/github/tky1026/nus_it5100f/blob/main/notebook/dummy_notebook.ipynb\" target=\"_blank\">\n",
    "    <img src=\"https://img.shields.io/badge/Open%20in-Colab-blue?logo=google-colab&style=for-the-badge\" alt=\"Open in Colab\"/>\n",
    "</a>\n",
    "\n",
    "<a href=\"https://github.com/tky1026/nus_it5100f\" target=\"_blank\">\n",
    "    <img src=\"https://img.shields.io/badge/GitHub-Pages-blue?logo=github&style=for-the-badge\" alt=\"GitHub Pages\"/>\n",
    "</a>\n",
    "\n",
    "<a href=\"https://github.com/tky1026/nus_it5100f/blob/main/notebook/dummy_notebook.ipynb\" target=\"_blank\">\n",
    "    <img src=\"https://img.shields.io/badge/View-Notebook-orange?logo=jupyter&style=for-the-badge\" alt=\"View Notebook\"/>\n",
    "</a>\n"
   ]
  },
  {
   "cell_type": "markdown",
   "id": "6f724577",
   "metadata": {},
   "source": [
    "## Introduction\n",
    "This section introduces the notebook."
   ]
  },
  {
   "cell_type": "code",
   "execution_count": null,
   "id": "72010757",
   "metadata": {},
   "outputs": [],
   "source": [
    "import numpy as np\n",
    "np.random.seed(42)\n",
    "np.random.rand(5, 5)"
   ]
  },
  {
   "cell_type": "markdown",
   "id": "c9ecfc00",
   "metadata": {},
   "source": [
    "## Data Analysis\n",
    "This section contains some basic data analysis code."
   ]
  },
  {
   "cell_type": "code",
   "execution_count": null,
   "id": "f303acde",
   "metadata": {},
   "outputs": [],
   "source": [
    "import pandas as pd\n",
    "data = {'A': [1, 2, 3], 'B': [4, 5, 6]}\n",
    "df = pd.DataFrame(data)\n",
    "df.describe()"
   ]
  },
  {
   "cell_type": "markdown",
   "id": "283f242f",
   "metadata": {},
   "source": [
    "## Conclusion\n",
    "This is the conclusion of the notebook."
   ]
  }
 ],
 "metadata": {
  "language_info": {
   "name": "python"
  }
 },
 "nbformat": 4,
 "nbformat_minor": 5
}
