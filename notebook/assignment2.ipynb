{
  "cells": [
    {
      "cell_type": "markdown",
      "id": "8bab41ba",
      "metadata": {
        "id": "8bab41ba"
      },
      "source": [
        "# Supervised Learning Techniques\n",
        "In this notebook, we will work on supervised learning and visualization. Particularly, we will perform supervise learning techniques by building regression models to predict changes in heart rate based on features extracted from a dataset of user workout records."
      ]
    },
    {
      "cell_type": "markdown",
      "id": "d2a67e79",
      "metadata": {
        "id": "d2a67e79"
      },
      "source": [
        "## Table of Contents\n",
        "1. [Data Preperation and Feature Engineering](#)\n",
        "1. [Model Training and Application](#)\n",
        "1. [Model Evaluation and Visualization](#)\n",
        "1. [Model Improvement with More Features (Multivariate Regression)](#)\n",
        "1. [Model Comparison](#)"
      ]
    },
    {
      "cell_type": "markdown",
      "id": "d48b074d",
      "metadata": {
        "id": "d48b074d"
      },
      "source": [
        "**View this notebook in:**\n",
        "\n",
        "<a href=\"https://colab.research.google.com/github/tky1026/nus_it5100f/blob/main/notebook/assignment2.ipynb\" target=\"_blank\">\n",
        "    <img src=\"https://img.shields.io/badge/Open%20in-Colab-blue?logo=google-colab&style=for-the-badge\" alt=\"Open in Colab\"/>\n",
        "</a>\n",
        "\n",
        "<a href=\"https://github.com/tky1026/nus_it5100f\" target=\"_blank\">\n",
        "    <img src=\"https://img.shields.io/badge/GitHub-Pages-blue?logo=github&style=for-the-badge\" alt=\"GitHub Pages\"/>\n",
        "</a>\n",
        "\n",
        "<a href=\"https://github.com/tky1026/nus_it5100f/blob/main/notebook/assignment2.ipynb\" target=\"_blank\">\n",
        "    <img src=\"https://img.shields.io/badge/View-Notebook-orange?logo=jupyter&style=for-the-badge\" alt=\"View Notebook\"/>\n",
        "</a>"
      ]
    },
    {
      "cell_type": "markdown",
      "id": "7604d273",
      "metadata": {
        "id": "7604d273"
      },
      "source": [
        "---"
      ]
    },
    {
      "cell_type": "markdown",
      "source": [
        "**Note:**\n",
        "\n",
        "> This notebook is a continuation of the previous data preprocessing and exploratory data analysis steps. Before proceeding, it's important to have completed the previous steps, where we cleaned and transformed the Endomondo dataset. As a result of those steps, we saved the preprocessed data into a CSV file.\n",
        ">\n",
        ">The pre-requisite for this notebook is the CSV file (`endomondo_proper_cleaned_expanded.csv`), which was generated during the earlier part of the project. This file contains the cleaned dataset, which we will now use to apply various supervised learning techniques."
      ],
      "metadata": {
        "id": "sgfNIN8RVjpl"
      },
      "id": "sgfNIN8RVjpl"
    },
    {
      "cell_type": "markdown",
      "id": "6121db9d",
      "metadata": {
        "id": "6121db9d"
      },
      "source": [
        "## Setup\n",
        "\n",
        "Before we dive into the supervised learning techniques, we need to prepare our environment. Here, we import the necessary libraries, mounting Google Drive to access the dataset, and loading the preprocessed data from the previous assignment.\n"
      ]
    },
    {
      "cell_type": "code",
      "execution_count": 2,
      "id": "ac1bf21a",
      "metadata": {
        "id": "ac1bf21a"
      },
      "outputs": [],
      "source": [
        "import pandas as pd\n",
        "import numpy as np\n",
        "import matplotlib.pyplot as plt\n",
        "import seaborn as sns"
      ]
    },
    {
      "cell_type": "code",
      "source": [
        "# Mount google drive\n",
        "from google.colab import drive\n",
        "drive.mount('/content/drive')\n",
        "\n",
        "# Define the path to the csv file\n",
        "file_path_to_csv = \"/content/drive/My Drive/IT5100F Project/data/endomondo_proper_cleaned_expanded.csv\"\n",
        "\n",
        "# Load the data into DataFrame\n",
        "endomondo_df = pd.read_csv(file_path_to_csv)\n",
        "\n",
        "# Display the first few rows of the DataFrame\n",
        "endomondo_df.head()"
      ],
      "metadata": {
        "colab": {
          "base_uri": "https://localhost:8080/",
          "height": 224
        },
        "id": "hNyJCSfyW90g",
        "outputId": "c7528658-02df-411a-9df1-150af64140c4"
      },
      "id": "hNyJCSfyW90g",
      "execution_count": 3,
      "outputs": [
        {
          "output_type": "stream",
          "name": "stdout",
          "text": [
            "Mounted at /content/drive\n"
          ]
        },
        {
          "output_type": "execute_result",
          "data": {
            "text/plain": [
              "   altitude  heart_rate           id   latitude  longitude    speed sport  \\\n",
              "0      41.6         100  396826535.0  60.173349  24.649770   6.8652  bike   \n",
              "1      40.6         111  396826535.0  60.173240  24.650143  16.4736  bike   \n",
              "2      40.6         120  396826535.0  60.172980  24.650911  19.1988  bike   \n",
              "3      38.4         119  396826535.0  60.172478  24.650669  20.4804  bike   \n",
              "4      37.0         120  396826535.0  60.171861  24.649145  31.3956  bike   \n",
              "\n",
              "             timestamp  \n",
              "0  2014-08-24 16:45:46  \n",
              "1  2014-08-24 16:45:54  \n",
              "2  2014-08-24 16:46:05  \n",
              "3  2014-08-24 16:46:18  \n",
              "4  2014-08-24 16:46:34  "
            ],
            "text/html": [
              "\n",
              "  <div id=\"df-05d2bbe8-9024-46b0-a332-864fdb6eeafb\" class=\"colab-df-container\">\n",
              "    <div>\n",
              "<style scoped>\n",
              "    .dataframe tbody tr th:only-of-type {\n",
              "        vertical-align: middle;\n",
              "    }\n",
              "\n",
              "    .dataframe tbody tr th {\n",
              "        vertical-align: top;\n",
              "    }\n",
              "\n",
              "    .dataframe thead th {\n",
              "        text-align: right;\n",
              "    }\n",
              "</style>\n",
              "<table border=\"1\" class=\"dataframe\">\n",
              "  <thead>\n",
              "    <tr style=\"text-align: right;\">\n",
              "      <th></th>\n",
              "      <th>altitude</th>\n",
              "      <th>heart_rate</th>\n",
              "      <th>id</th>\n",
              "      <th>latitude</th>\n",
              "      <th>longitude</th>\n",
              "      <th>speed</th>\n",
              "      <th>sport</th>\n",
              "      <th>timestamp</th>\n",
              "    </tr>\n",
              "  </thead>\n",
              "  <tbody>\n",
              "    <tr>\n",
              "      <th>0</th>\n",
              "      <td>41.6</td>\n",
              "      <td>100</td>\n",
              "      <td>396826535.0</td>\n",
              "      <td>60.173349</td>\n",
              "      <td>24.649770</td>\n",
              "      <td>6.8652</td>\n",
              "      <td>bike</td>\n",
              "      <td>2014-08-24 16:45:46</td>\n",
              "    </tr>\n",
              "    <tr>\n",
              "      <th>1</th>\n",
              "      <td>40.6</td>\n",
              "      <td>111</td>\n",
              "      <td>396826535.0</td>\n",
              "      <td>60.173240</td>\n",
              "      <td>24.650143</td>\n",
              "      <td>16.4736</td>\n",
              "      <td>bike</td>\n",
              "      <td>2014-08-24 16:45:54</td>\n",
              "    </tr>\n",
              "    <tr>\n",
              "      <th>2</th>\n",
              "      <td>40.6</td>\n",
              "      <td>120</td>\n",
              "      <td>396826535.0</td>\n",
              "      <td>60.172980</td>\n",
              "      <td>24.650911</td>\n",
              "      <td>19.1988</td>\n",
              "      <td>bike</td>\n",
              "      <td>2014-08-24 16:46:05</td>\n",
              "    </tr>\n",
              "    <tr>\n",
              "      <th>3</th>\n",
              "      <td>38.4</td>\n",
              "      <td>119</td>\n",
              "      <td>396826535.0</td>\n",
              "      <td>60.172478</td>\n",
              "      <td>24.650669</td>\n",
              "      <td>20.4804</td>\n",
              "      <td>bike</td>\n",
              "      <td>2014-08-24 16:46:18</td>\n",
              "    </tr>\n",
              "    <tr>\n",
              "      <th>4</th>\n",
              "      <td>37.0</td>\n",
              "      <td>120</td>\n",
              "      <td>396826535.0</td>\n",
              "      <td>60.171861</td>\n",
              "      <td>24.649145</td>\n",
              "      <td>31.3956</td>\n",
              "      <td>bike</td>\n",
              "      <td>2014-08-24 16:46:34</td>\n",
              "    </tr>\n",
              "  </tbody>\n",
              "</table>\n",
              "</div>\n",
              "    <div class=\"colab-df-buttons\">\n",
              "\n",
              "  <div class=\"colab-df-container\">\n",
              "    <button class=\"colab-df-convert\" onclick=\"convertToInteractive('df-05d2bbe8-9024-46b0-a332-864fdb6eeafb')\"\n",
              "            title=\"Convert this dataframe to an interactive table.\"\n",
              "            style=\"display:none;\">\n",
              "\n",
              "  <svg xmlns=\"http://www.w3.org/2000/svg\" height=\"24px\" viewBox=\"0 -960 960 960\">\n",
              "    <path d=\"M120-120v-720h720v720H120Zm60-500h600v-160H180v160Zm220 220h160v-160H400v160Zm0 220h160v-160H400v160ZM180-400h160v-160H180v160Zm440 0h160v-160H620v160ZM180-180h160v-160H180v160Zm440 0h160v-160H620v160Z\"/>\n",
              "  </svg>\n",
              "    </button>\n",
              "\n",
              "  <style>\n",
              "    .colab-df-container {\n",
              "      display:flex;\n",
              "      gap: 12px;\n",
              "    }\n",
              "\n",
              "    .colab-df-convert {\n",
              "      background-color: #E8F0FE;\n",
              "      border: none;\n",
              "      border-radius: 50%;\n",
              "      cursor: pointer;\n",
              "      display: none;\n",
              "      fill: #1967D2;\n",
              "      height: 32px;\n",
              "      padding: 0 0 0 0;\n",
              "      width: 32px;\n",
              "    }\n",
              "\n",
              "    .colab-df-convert:hover {\n",
              "      background-color: #E2EBFA;\n",
              "      box-shadow: 0px 1px 2px rgba(60, 64, 67, 0.3), 0px 1px 3px 1px rgba(60, 64, 67, 0.15);\n",
              "      fill: #174EA6;\n",
              "    }\n",
              "\n",
              "    .colab-df-buttons div {\n",
              "      margin-bottom: 4px;\n",
              "    }\n",
              "\n",
              "    [theme=dark] .colab-df-convert {\n",
              "      background-color: #3B4455;\n",
              "      fill: #D2E3FC;\n",
              "    }\n",
              "\n",
              "    [theme=dark] .colab-df-convert:hover {\n",
              "      background-color: #434B5C;\n",
              "      box-shadow: 0px 1px 3px 1px rgba(0, 0, 0, 0.15);\n",
              "      filter: drop-shadow(0px 1px 2px rgba(0, 0, 0, 0.3));\n",
              "      fill: #FFFFFF;\n",
              "    }\n",
              "  </style>\n",
              "\n",
              "    <script>\n",
              "      const buttonEl =\n",
              "        document.querySelector('#df-05d2bbe8-9024-46b0-a332-864fdb6eeafb button.colab-df-convert');\n",
              "      buttonEl.style.display =\n",
              "        google.colab.kernel.accessAllowed ? 'block' : 'none';\n",
              "\n",
              "      async function convertToInteractive(key) {\n",
              "        const element = document.querySelector('#df-05d2bbe8-9024-46b0-a332-864fdb6eeafb');\n",
              "        const dataTable =\n",
              "          await google.colab.kernel.invokeFunction('convertToInteractive',\n",
              "                                                    [key], {});\n",
              "        if (!dataTable) return;\n",
              "\n",
              "        const docLinkHtml = 'Like what you see? Visit the ' +\n",
              "          '<a target=\"_blank\" href=https://colab.research.google.com/notebooks/data_table.ipynb>data table notebook</a>'\n",
              "          + ' to learn more about interactive tables.';\n",
              "        element.innerHTML = '';\n",
              "        dataTable['output_type'] = 'display_data';\n",
              "        await google.colab.output.renderOutput(dataTable, element);\n",
              "        const docLink = document.createElement('div');\n",
              "        docLink.innerHTML = docLinkHtml;\n",
              "        element.appendChild(docLink);\n",
              "      }\n",
              "    </script>\n",
              "  </div>\n",
              "\n",
              "\n",
              "<div id=\"df-aed14044-ca67-4c20-9ce2-7fa96dcf09c7\">\n",
              "  <button class=\"colab-df-quickchart\" onclick=\"quickchart('df-aed14044-ca67-4c20-9ce2-7fa96dcf09c7')\"\n",
              "            title=\"Suggest charts\"\n",
              "            style=\"display:none;\">\n",
              "\n",
              "<svg xmlns=\"http://www.w3.org/2000/svg\" height=\"24px\"viewBox=\"0 0 24 24\"\n",
              "     width=\"24px\">\n",
              "    <g>\n",
              "        <path d=\"M19 3H5c-1.1 0-2 .9-2 2v14c0 1.1.9 2 2 2h14c1.1 0 2-.9 2-2V5c0-1.1-.9-2-2-2zM9 17H7v-7h2v7zm4 0h-2V7h2v10zm4 0h-2v-4h2v4z\"/>\n",
              "    </g>\n",
              "</svg>\n",
              "  </button>\n",
              "\n",
              "<style>\n",
              "  .colab-df-quickchart {\n",
              "      --bg-color: #E8F0FE;\n",
              "      --fill-color: #1967D2;\n",
              "      --hover-bg-color: #E2EBFA;\n",
              "      --hover-fill-color: #174EA6;\n",
              "      --disabled-fill-color: #AAA;\n",
              "      --disabled-bg-color: #DDD;\n",
              "  }\n",
              "\n",
              "  [theme=dark] .colab-df-quickchart {\n",
              "      --bg-color: #3B4455;\n",
              "      --fill-color: #D2E3FC;\n",
              "      --hover-bg-color: #434B5C;\n",
              "      --hover-fill-color: #FFFFFF;\n",
              "      --disabled-bg-color: #3B4455;\n",
              "      --disabled-fill-color: #666;\n",
              "  }\n",
              "\n",
              "  .colab-df-quickchart {\n",
              "    background-color: var(--bg-color);\n",
              "    border: none;\n",
              "    border-radius: 50%;\n",
              "    cursor: pointer;\n",
              "    display: none;\n",
              "    fill: var(--fill-color);\n",
              "    height: 32px;\n",
              "    padding: 0;\n",
              "    width: 32px;\n",
              "  }\n",
              "\n",
              "  .colab-df-quickchart:hover {\n",
              "    background-color: var(--hover-bg-color);\n",
              "    box-shadow: 0 1px 2px rgba(60, 64, 67, 0.3), 0 1px 3px 1px rgba(60, 64, 67, 0.15);\n",
              "    fill: var(--button-hover-fill-color);\n",
              "  }\n",
              "\n",
              "  .colab-df-quickchart-complete:disabled,\n",
              "  .colab-df-quickchart-complete:disabled:hover {\n",
              "    background-color: var(--disabled-bg-color);\n",
              "    fill: var(--disabled-fill-color);\n",
              "    box-shadow: none;\n",
              "  }\n",
              "\n",
              "  .colab-df-spinner {\n",
              "    border: 2px solid var(--fill-color);\n",
              "    border-color: transparent;\n",
              "    border-bottom-color: var(--fill-color);\n",
              "    animation:\n",
              "      spin 1s steps(1) infinite;\n",
              "  }\n",
              "\n",
              "  @keyframes spin {\n",
              "    0% {\n",
              "      border-color: transparent;\n",
              "      border-bottom-color: var(--fill-color);\n",
              "      border-left-color: var(--fill-color);\n",
              "    }\n",
              "    20% {\n",
              "      border-color: transparent;\n",
              "      border-left-color: var(--fill-color);\n",
              "      border-top-color: var(--fill-color);\n",
              "    }\n",
              "    30% {\n",
              "      border-color: transparent;\n",
              "      border-left-color: var(--fill-color);\n",
              "      border-top-color: var(--fill-color);\n",
              "      border-right-color: var(--fill-color);\n",
              "    }\n",
              "    40% {\n",
              "      border-color: transparent;\n",
              "      border-right-color: var(--fill-color);\n",
              "      border-top-color: var(--fill-color);\n",
              "    }\n",
              "    60% {\n",
              "      border-color: transparent;\n",
              "      border-right-color: var(--fill-color);\n",
              "    }\n",
              "    80% {\n",
              "      border-color: transparent;\n",
              "      border-right-color: var(--fill-color);\n",
              "      border-bottom-color: var(--fill-color);\n",
              "    }\n",
              "    90% {\n",
              "      border-color: transparent;\n",
              "      border-bottom-color: var(--fill-color);\n",
              "    }\n",
              "  }\n",
              "</style>\n",
              "\n",
              "  <script>\n",
              "    async function quickchart(key) {\n",
              "      const quickchartButtonEl =\n",
              "        document.querySelector('#' + key + ' button');\n",
              "      quickchartButtonEl.disabled = true;  // To prevent multiple clicks.\n",
              "      quickchartButtonEl.classList.add('colab-df-spinner');\n",
              "      try {\n",
              "        const charts = await google.colab.kernel.invokeFunction(\n",
              "            'suggestCharts', [key], {});\n",
              "      } catch (error) {\n",
              "        console.error('Error during call to suggestCharts:', error);\n",
              "      }\n",
              "      quickchartButtonEl.classList.remove('colab-df-spinner');\n",
              "      quickchartButtonEl.classList.add('colab-df-quickchart-complete');\n",
              "    }\n",
              "    (() => {\n",
              "      let quickchartButtonEl =\n",
              "        document.querySelector('#df-aed14044-ca67-4c20-9ce2-7fa96dcf09c7 button');\n",
              "      quickchartButtonEl.style.display =\n",
              "        google.colab.kernel.accessAllowed ? 'block' : 'none';\n",
              "    })();\n",
              "  </script>\n",
              "</div>\n",
              "\n",
              "    </div>\n",
              "  </div>\n"
            ],
            "application/vnd.google.colaboratory.intrinsic+json": {
              "type": "dataframe",
              "variable_name": "endomondo_df"
            }
          },
          "metadata": {},
          "execution_count": 3
        }
      ]
    },
    {
      "cell_type": "markdown",
      "id": "d8775bc0",
      "metadata": {
        "id": "d8775bc0"
      },
      "source": [
        "## 1 Data Preperation and Feature Engineering\n",
        "\n",
        "In this section, we will perform data engineering tasks to prepare new features for supervised learning. Specifically, we will calculate differences for heart rate, speed, and altitude between consecutive rows for each user. Additionally, we will compute the elapsed time for each workout and handle any resulting NaN values.\n",
        "\n",
        "- Note: Each User only has one workout session"
      ]
    },
    {
      "cell_type": "markdown",
      "source": [
        "### 1.1 Compute Heart Rate Difference"
      ],
      "metadata": {
        "id": "GTxj113bXy9b"
      },
      "id": "GTxj113bXy9b"
    },
    {
      "cell_type": "code",
      "execution_count": 4,
      "id": "c9f6b64a",
      "metadata": {
        "id": "c9f6b64a"
      },
      "outputs": [],
      "source": [
        "# Add a new column to the dataframe called `heart_rate_diff` that calculates the difference between the current heart rate and the previous heart rate for each user.\n",
        "endomondo_df['heart_rate_diff'] = endomondo_df.groupby('id')['heart_rate'].diff()"
      ]
    },
    {
      "cell_type": "markdown",
      "source": [
        "### 1.2 Compute Speed Difference"
      ],
      "metadata": {
        "id": "DVq8Mu1mY2DH"
      },
      "id": "DVq8Mu1mY2DH"
    },
    {
      "cell_type": "code",
      "source": [
        "# Add a new column to the dataframe called `heart_rate_diff` that calculates the difference between the current heart rate and the previous heart rate for each user.\n",
        "endomondo_df['speed_diff'] = endomondo_df.groupby('id')['speed'].diff()"
      ],
      "metadata": {
        "id": "kwEUFEVTYveC"
      },
      "id": "kwEUFEVTYveC",
      "execution_count": 5,
      "outputs": []
    },
    {
      "cell_type": "markdown",
      "source": [
        "### 1.3 Compute Altitude Difference"
      ],
      "metadata": {
        "id": "mIJ9idszY6CM"
      },
      "id": "mIJ9idszY6CM"
    },
    {
      "cell_type": "code",
      "source": [
        "# Add a new column to the dataframe called `altitude_diff` that calculates the difference in altitude between the current and previous row for each user.\n",
        "endomondo_df['altitude_diff'] = endomondo_df.groupby('id')['altitude'].diff()"
      ],
      "metadata": {
        "id": "Q_-KHCxvY98Y"
      },
      "id": "Q_-KHCxvY98Y",
      "execution_count": 6,
      "outputs": []
    },
    {
      "cell_type": "markdown",
      "source": [
        "### 1.4 Compute Time Elapsed"
      ],
      "metadata": {
        "id": "Z5rZ5Q4TaQVn"
      },
      "id": "Z5rZ5Q4TaQVn"
    },
    {
      "cell_type": "code",
      "source": [
        "# Add a new column to the dataframe called `time_elapsed` which is the difference between the start and current time in seconds\n",
        "endomondo_df['timestamp'] = pd.to_datetime(endomondo_df['timestamp'])\n",
        "endomondo_df['time_elapsed'] = endomondo_df.groupby('id')['timestamp'].diff().dt.total_seconds()"
      ],
      "metadata": {
        "id": "VWERnkPwaT3y"
      },
      "id": "VWERnkPwaT3y",
      "execution_count": 8,
      "outputs": []
    },
    {
      "cell_type": "markdown",
      "source": [
        "### 1.5: Remove NaN values\n",
        "After computing differences, the first record for each user will have NaN values for the `heart_rate_diff`, `speed_diff`, and `altitude_diff` columns. These `NaN` values occur because there is no previous record to compare against for the first row.\n",
        "\n",
        "We will handle these `NaN` values by replacing them with `0`, as the difference for the first record can be safely assumed to be zero."
      ],
      "metadata": {
        "id": "Vdt14Nf1azgS"
      },
      "id": "Vdt14Nf1azgS"
    },
    {
      "cell_type": "code",
      "source": [
        "# Replace NaN values in the computed difference columns with 0\n",
        "for col in ['heart_rate_diff', 'speed_diff', 'altitude_diff', 'time_elapsed']:\n",
        "    endomondo_df.fillna({col: 0}, inplace=True) # OR endomondo_df[col] = endomondo_df[col].fillna(0)\n",
        "\n",
        "# Verify there are no more NaN values\n",
        "for col in ['heart_rate_diff', 'speed_diff', 'altitude_diff', 'time_elapsed']:\n",
        "    print(f\"Number of NaN values in {col}: {endomondo_df[col].isna().sum()}\")"
      ],
      "metadata": {
        "colab": {
          "base_uri": "https://localhost:8080/"
        },
        "id": "fRpFMtrcbVrk",
        "outputId": "39f011f0-dc70-44a8-c724-e61a2131abdd"
      },
      "id": "fRpFMtrcbVrk",
      "execution_count": 13,
      "outputs": [
        {
          "output_type": "stream",
          "name": "stdout",
          "text": [
            "Number of NaN values in heart_rate_diff: 0\n",
            "Number of NaN values in speed_diff: 0\n",
            "Number of NaN values in altitude_diff: 0\n",
            "Number of NaN values in time_elapsed: 0\n"
          ]
        }
      ]
    },
    {
      "cell_type": "markdown",
      "source": [
        "## 2 Model Training and Application"
      ],
      "metadata": {
        "id": "RSmryouCYfiF"
      },
      "id": "RSmryouCYfiF"
    },
    {
      "cell_type": "markdown",
      "source": [
        "## 3 Model Evaluation and Visualization"
      ],
      "metadata": {
        "id": "zr-dmJtJYcz4"
      },
      "id": "zr-dmJtJYcz4"
    },
    {
      "cell_type": "markdown",
      "source": [
        "## 4 Model Improvement with More Features (Multivariate Regression)"
      ],
      "metadata": {
        "id": "L3tPYDNuYYPh"
      },
      "id": "L3tPYDNuYYPh"
    },
    {
      "cell_type": "markdown",
      "id": "aadecd56",
      "metadata": {
        "id": "aadecd56"
      },
      "source": [
        "## 5 Model Comparison\n"
      ]
    }
  ],
  "metadata": {
    "language_info": {
      "name": "python"
    },
    "colab": {
      "provenance": []
    },
    "kernelspec": {
      "name": "python3",
      "display_name": "Python 3"
    }
  },
  "nbformat": 4,
  "nbformat_minor": 5
}